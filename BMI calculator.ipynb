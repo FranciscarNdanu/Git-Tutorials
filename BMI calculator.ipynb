{
 "cells": [
  {
   "cell_type": "markdown",
   "metadata": {},
   "source": [
    "BMI Calculator"
   ]
  },
  {
   "cell_type": "code",
   "execution_count": 1,
   "metadata": {},
   "outputs": [
    {
     "name": "stdout",
     "output_type": "stream",
     "text": [
      "Hello Ndanu. Welcome to our BMI calculation System\n"
     ]
    }
   ],
   "source": [
    "name=input(\"Enter your name: \")\n",
    "print(f\"Hello {name}. Welcome to our BMI calculation System\")\n"
   ]
  },
  {
   "cell_type": "code",
   "execution_count": 4,
   "metadata": {},
   "outputs": [
    {
     "name": "stdout",
     "output_type": "stream",
     "text": [
      "provide us with the information below\n",
      "*****BMI Results******\n",
      "Your BMI is: 50.0\n",
      "Overweight\n"
     ]
    }
   ],
   "source": [
    "print('provide us with the information below')\n",
    "weight= float(input('Enter your weight: Kgs '))\n",
    "height= float(input('Enter your height: Metres '))\n",
    "\n",
    "BMI=round((weight/height**2),2)\n",
    "\n",
    "print('*****BMI Results******')\n",
    "print(f'Your BMI is: {BMI}')\n",
    "if BMI > 25:\n",
    "    print('Overweight')\n",
    "elif BMI < 18:\n",
    "    print('underweight')\n",
    "else:\n",
    "    print('normal')"
   ]
  }
 ],
 "metadata": {
  "kernelspec": {
   "display_name": "base",
   "language": "python",
   "name": "python3"
  },
  "language_info": {
   "codemirror_mode": {
    "name": "ipython",
    "version": 3
   },
   "file_extension": ".py",
   "mimetype": "text/x-python",
   "name": "python",
   "nbconvert_exporter": "python",
   "pygments_lexer": "ipython3",
   "version": "3.12.4"
  }
 },
 "nbformat": 4,
 "nbformat_minor": 2
}
