{
 "cells": [
  {
   "cell_type": "markdown",
   "metadata": {},
   "source": [
    "BMI Calculator"
   ]
  },
  {
   "cell_type": "code",
   "execution_count": 2,
   "metadata": {},
   "outputs": [
    {
     "name": "stdout",
     "output_type": "stream",
     "text": [
      "Hello Ndanu. Welcome to our BMI Calculator System\n"
     ]
    }
   ],
   "source": [
    "name=input('Enter your name: ')\n",
    "print(f'Hello {name}. Welcome to our BMI Calculator System')"
   ]
  },
  {
   "cell_type": "code",
   "execution_count": 1,
   "metadata": {},
   "outputs": [
    {
     "name": "stdout",
     "output_type": "stream",
     "text": [
      "Provide us with the information below: \n",
      "*******BMI Results*****\n",
      "Your BMI is: 0.09\n",
      "Underweight\n"
     ]
    }
   ],
   "source": [
    "print(\"Provide us with the information below: \")\n",
    "weight = float(input(\"Enter your weight in Kgs: \"))\n",
    "height = float(input('Enter your height in Meters: '))\n",
    "\n",
    "BMI = round(weight/(height * height),2)\n",
    "\n",
    "print('*******BMI Results*****')\n",
    "print(f'Your BMI is: {BMI}')\n",
    "\n",
    "if BMI>25:\n",
    "    print(\"Overweight\")\n",
    "elif BMI < 18:\n",
    "    print ('Underweight')\n",
    "else:\n",
    "    print ('Normal')"
   ]
  }
 ],
 "metadata": {
  "kernelspec": {
   "display_name": "base",
   "language": "python",
   "name": "python3"
  },
  "language_info": {
   "codemirror_mode": {
    "name": "ipython",
    "version": 3
   },
   "file_extension": ".py",
   "mimetype": "text/x-python",
   "name": "python",
   "nbconvert_exporter": "python",
   "pygments_lexer": "ipython3",
   "version": "3.12.4"
  }
 },
 "nbformat": 4,
 "nbformat_minor": 2
}
